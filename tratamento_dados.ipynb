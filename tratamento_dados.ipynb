{
 "cells": [
  {
   "cell_type": "code",
   "execution_count": 2,
   "metadata": {},
   "outputs": [],
   "source": [
    "#Importação de bibliotacas\n",
    "import pandas as pd"
   ]
  },
  {
   "cell_type": "code",
   "execution_count": 4,
   "metadata": {},
   "outputs": [],
   "source": [
    "# Importando ps CSV com pandas\n",
    "pilotos = pd.read_csv('./bases/drivers.csv')\n",
    "piloto_classificacoes = pd.read_csv('./bases/driver_standings.csv')\n",
    "corridas = pd.read_csv('./bases/races.csv')\n",
    "sprint_resultados = pd.read_csv('./bases/sprint_results.csv')\n",
    "circuitos = pd.read_csv('./bases/circuits.csv')\n",
    "tempo_por_volta = pd.read_csv('./bases/lap_times.csv')\n",
    "parada_boxes = pd.read_csv('./bases/pit_stops.csv')\n",
    "qualificacao = pd.read_csv('./bases/qualifying.csv')\n",
    "resultados = pd.read_csv('./bases/results.csv')\n",
    "status = pd.read_csv('./bases/status.csv')\n",
    "temporadas = pd.read_csv('./bases/seasons.csv')\n",
    "construtores = pd.read_csv('./bases/constructors.csv')\n",
    "construtor_classificacoes = pd.read_csv('./bases/constructor_standings.csv')\n",
    "construtor_resultados = pd.read_csv('./bases/constructor_results.csv')\n"
   ]
  },
  {
   "attachments": {},
   "cell_type": "markdown",
   "metadata": {},
   "source": [
    "## Tratamento de dados/Limpeza\n",
    "#Tabelas a serem tratadas: races, tb_circuts, laptimes, constructor satadings/results"
   ]
  }
 ],
 "metadata": {
  "kernelspec": {
   "display_name": "Python 3",
   "language": "python",
   "name": "python3"
  },
  "language_info": {
   "codemirror_mode": {
    "name": "ipython",
    "version": 3
   },
   "file_extension": ".py",
   "mimetype": "text/x-python",
   "name": "python",
   "nbconvert_exporter": "python",
   "pygments_lexer": "ipython3",
   "version": "3.11.5"
  },
  "orig_nbformat": 4
 },
 "nbformat": 4,
 "nbformat_minor": 2
}
