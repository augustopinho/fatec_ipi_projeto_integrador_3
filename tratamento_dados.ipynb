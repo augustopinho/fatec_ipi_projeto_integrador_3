{
 "cells": [
  {
   "cell_type": "code",
   "execution_count": 1,
   "metadata": {},
   "outputs": [],
   "source": [
    "#Importação de bibliotacas\n",
    "import pandas as pd\n",
    "import numpy as np\n",
    "import seaborn as sns\n",
    "import matplotlib.pyplot as plt"
   ]
  },
  {
   "cell_type": "code",
   "execution_count": 2,
   "metadata": {},
   "outputs": [],
   "source": [
    "# Importando ps CSV com pandas\n",
    "pilotos = pd.read_csv('./bases/drivers.csv')\n",
    "piloto_classificacoes = pd.read_csv('./bases/driver_standings.csv')\n",
    "corridas = pd.read_csv('./bases/races.csv')\n",
    "sprint_resultados = pd.read_csv('./bases/sprint_results.csv')\n",
    "circuitos = pd.read_csv('./bases/circuits.csv')\n",
    "tempo_por_volta = pd.read_csv('./bases/lap_times.csv')\n",
    "parada_boxes = pd.read_csv('./bases/pit_stops.csv')\n",
    "qualificacao = pd.read_csv('./bases/qualifying.csv')\n",
    "resultados = pd.read_csv('./bases/results.csv')\n",
    "status = pd.read_csv('./bases/status.csv')\n",
    "temporadas = pd.read_csv('./bases/seasons.csv')\n",
    "construtores = pd.read_csv('./bases/constructors.csv')\n",
    "construtor_classificacoes = pd.read_csv('./bases/constructor_standings.csv')\n",
    "construtor_resultados = pd.read_csv('./bases/constructor_results.csv')\n"
   ]
  },
  {
   "attachments": {},
   "cell_type": "markdown",
   "metadata": {},
   "source": [
    "## Tratamento de dados/Limpeza\n",
    "#Tabelas a serem tratadas: races, tb_circuts, laptimes, constructor satadings/results"
   ]
  },
  {
   "cell_type": "markdown",
   "metadata": {},
   "source": [
    "### T/L tabela RACES (CORRIDAS)"
   ]
  },
  {
   "cell_type": "markdown",
   "metadata": {},
   "source": [
    "Comentários: Deletado coluna URL e substituido valores (\"\\N\") para NULL com (np.nan)"
   ]
  },
  {
   "cell_type": "markdown",
   "metadata": {},
   "source": [
    "#### Alterações pré-determinadas:"
   ]
  },
  {
   "cell_type": "code",
   "execution_count": 3,
   "metadata": {},
   "outputs": [],
   "source": [
    "#Colocando as colunas em PT_BR\n",
    "corridas.columns = ['corrida_id', 'ano', 'rodada', 'circuito_id', 'nome', 'data','hora','url','fp1_data','fp1_hora','fp2_data','fp2_hora','fp3_data','fp3_hora','quali_data','quali_hora','sprint_data','sprint_hora']"
   ]
  },
  {
   "cell_type": "code",
   "execution_count": 4,
   "metadata": {},
   "outputs": [],
   "source": [
    "#Deletando colunas que não precisam\n",
    "\n",
    "#DROP COLUNA URL\n",
    "corridas = corridas.drop('url', axis=1)"
   ]
  },
  {
   "cell_type": "markdown",
   "metadata": {},
   "source": [
    "#### Alterações de type nas colunas e nulls"
   ]
  },
  {
   "cell_type": "code",
   "execution_count": 5,
   "metadata": {},
   "outputs": [],
   "source": [
    "#Colocando os valores \"\\n\" COMO None\n",
    "corridas = corridas.replace('\\\\N', np.nan)"
   ]
  },
  {
   "cell_type": "code",
   "execution_count": 6,
   "metadata": {},
   "outputs": [],
   "source": [
    "#Transformando em date, pois está em object\n",
    "corridas['data'] = pd.to_datetime(corridas['data'])\n",
    "corridas['fp1_data'] = pd.to_datetime(corridas['fp1_data'])\n",
    "corridas['fp2_data'] = pd.to_datetime(corridas['fp2_data'])\n",
    "corridas['fp3_data'] = pd.to_datetime(corridas['fp3_data'])\n",
    "corridas['quali_data'] = pd.to_datetime(corridas['quali_data'])\n",
    "corridas['sprint_data'] = pd.to_datetime(corridas['sprint_data'])"
   ]
  },
  {
   "cell_type": "code",
   "execution_count": 7,
   "metadata": {},
   "outputs": [],
   "source": [
    "#Transformando em String\n",
    "corridas['nome'] = corridas['nome'].astype(pd.StringDtype())"
   ]
  },
  {
   "cell_type": "code",
   "execution_count": 8,
   "metadata": {},
   "outputs": [],
   "source": [
    "#Transformando em DateTime\n",
    "corridas['hora'] = pd.to_datetime(corridas['hora'], format='%H:%M:%S')\n",
    "corridas['fp1_hora'] = pd.to_datetime(corridas['fp1_hora'], format='%H:%M:%S')\n",
    "corridas['fp2_hora'] = pd.to_datetime(corridas['fp2_hora'], format='%H:%M:%S')\n",
    "corridas['fp3_hora'] = pd.to_datetime(corridas['fp3_hora'], format='%H:%M:%S')\n",
    "corridas['quali_hora'] = pd.to_datetime(corridas['quali_hora'], format='%H:%M:%S')\n",
    "corridas['sprint_hora'] = pd.to_datetime(corridas['sprint_hora'], format='%H:%M:%S')"
   ]
  },
  {
   "cell_type": "code",
   "execution_count": 9,
   "metadata": {},
   "outputs": [
    {
     "data": {
      "text/plain": [
       "corrida_id        0\n",
       "ano               0\n",
       "rodada            0\n",
       "circuito_id       0\n",
       "nome              0\n",
       "data              0\n",
       "hora            731\n",
       "fp1_data       1035\n",
       "fp1_hora       1057\n",
       "fp2_data       1035\n",
       "fp2_hora       1057\n",
       "fp3_data       1047\n",
       "fp3_hora       1066\n",
       "quali_data     1035\n",
       "quali_hora     1057\n",
       "sprint_data    1089\n",
       "sprint_hora    1092\n",
       "dtype: int64"
      ]
     },
     "execution_count": 9,
     "metadata": {},
     "output_type": "execute_result"
    }
   ],
   "source": [
    "#retorna o número de valores ausentes para cada coluna.\n",
    "corridas.isna().sum()"
   ]
  },
  {
   "cell_type": "code",
   "execution_count": 10,
   "metadata": {},
   "outputs": [
    {
     "data": {
      "text/html": [
       "<div>\n",
       "<style scoped>\n",
       "    .dataframe tbody tr th:only-of-type {\n",
       "        vertical-align: middle;\n",
       "    }\n",
       "\n",
       "    .dataframe tbody tr th {\n",
       "        vertical-align: top;\n",
       "    }\n",
       "\n",
       "    .dataframe thead th {\n",
       "        text-align: right;\n",
       "    }\n",
       "</style>\n",
       "<table border=\"1\" class=\"dataframe\">\n",
       "  <thead>\n",
       "    <tr style=\"text-align: right;\">\n",
       "      <th></th>\n",
       "      <th>Dataframe</th>\n",
       "      <th>% de valores ausentes</th>\n",
       "    </tr>\n",
       "  </thead>\n",
       "  <tbody>\n",
       "    <tr>\n",
       "      <th>0</th>\n",
       "      <td>Corridas:</td>\n",
       "      <td>60.378266</td>\n",
       "    </tr>\n",
       "  </tbody>\n",
       "</table>\n",
       "</div>"
      ],
      "text/plain": [
       "   Dataframe  % de valores ausentes\n",
       "0  Corridas:              60.378266"
      ]
     },
     "execution_count": 10,
     "metadata": {},
     "output_type": "execute_result"
    }
   ],
   "source": [
    "#Calcula o percentual de valores ausentes\n",
    "def perc_na(df: pd.DataFrame) -> float:\n",
    "    return np.count_nonzero(df.isnull().values) / (df.shape[0] * df.shape[1]) * 100.0\n",
    "\n",
    "\n",
    "pd.DataFrame([\n",
    "    [\"Corridas:\", perc_na(corridas)]\n",
    "], columns=[\"Dataframe\", \"% de valores ausentes\"])"
   ]
  },
  {
   "cell_type": "markdown",
   "metadata": {},
   "source": [
    "#### Informações Finais"
   ]
  },
  {
   "cell_type": "code",
   "execution_count": 11,
   "metadata": {},
   "outputs": [
    {
     "name": "stdout",
     "output_type": "stream",
     "text": [
      "Descricao: \n",
      "\n",
      "\n",
      "Informacoes: \n",
      "<class 'pandas.core.frame.DataFrame'>\n",
      "RangeIndex: 1101 entries, 0 to 1100\n",
      "Data columns (total 17 columns):\n",
      " #   Column       Non-Null Count  Dtype         \n",
      "---  ------       --------------  -----         \n",
      " 0   corrida_id   1101 non-null   int64         \n",
      " 1   ano          1101 non-null   int64         \n",
      " 2   rodada       1101 non-null   int64         \n",
      " 3   circuito_id  1101 non-null   int64         \n",
      " 4   nome         1101 non-null   string        \n",
      " 5   data         1101 non-null   datetime64[ns]\n",
      " 6   hora         370 non-null    datetime64[ns]\n",
      " 7   fp1_data     66 non-null     datetime64[ns]\n",
      " 8   fp1_hora     44 non-null     datetime64[ns]\n",
      " 9   fp2_data     66 non-null     datetime64[ns]\n",
      " 10  fp2_hora     44 non-null     datetime64[ns]\n",
      " 11  fp3_data     54 non-null     datetime64[ns]\n",
      " 12  fp3_hora     35 non-null     datetime64[ns]\n",
      " 13  quali_data   66 non-null     datetime64[ns]\n",
      " 14  quali_hora   44 non-null     datetime64[ns]\n",
      " 15  sprint_data  12 non-null     datetime64[ns]\n",
      " 16  sprint_hora  9 non-null      datetime64[ns]\n",
      "dtypes: datetime64[ns](12), int64(4), string(1)\n",
      "memory usage: 146.4 KB\n",
      "\n",
      "\n",
      "Dimensoes: \n",
      "(1101, 17)\n",
      "\n",
      "\n"
     ]
    },
    {
     "data": {
      "text/html": [
       "<div>\n",
       "<style scoped>\n",
       "    .dataframe tbody tr th:only-of-type {\n",
       "        vertical-align: middle;\n",
       "    }\n",
       "\n",
       "    .dataframe tbody tr th {\n",
       "        vertical-align: top;\n",
       "    }\n",
       "\n",
       "    .dataframe thead th {\n",
       "        text-align: right;\n",
       "    }\n",
       "</style>\n",
       "<table border=\"1\" class=\"dataframe\">\n",
       "  <thead>\n",
       "    <tr style=\"text-align: right;\">\n",
       "      <th></th>\n",
       "      <th>corrida_id</th>\n",
       "      <th>ano</th>\n",
       "      <th>rodada</th>\n",
       "      <th>circuito_id</th>\n",
       "      <th>nome</th>\n",
       "      <th>data</th>\n",
       "      <th>hora</th>\n",
       "      <th>fp1_data</th>\n",
       "      <th>fp1_hora</th>\n",
       "      <th>fp2_data</th>\n",
       "      <th>fp2_hora</th>\n",
       "      <th>fp3_data</th>\n",
       "      <th>fp3_hora</th>\n",
       "      <th>quali_data</th>\n",
       "      <th>quali_hora</th>\n",
       "      <th>sprint_data</th>\n",
       "      <th>sprint_hora</th>\n",
       "    </tr>\n",
       "  </thead>\n",
       "  <tbody>\n",
       "    <tr>\n",
       "      <th>0</th>\n",
       "      <td>1</td>\n",
       "      <td>2009</td>\n",
       "      <td>1</td>\n",
       "      <td>1</td>\n",
       "      <td>Australian Grand Prix</td>\n",
       "      <td>2009-03-29</td>\n",
       "      <td>1900-01-01 06:00:00</td>\n",
       "      <td>NaT</td>\n",
       "      <td>NaT</td>\n",
       "      <td>NaT</td>\n",
       "      <td>NaT</td>\n",
       "      <td>NaT</td>\n",
       "      <td>NaT</td>\n",
       "      <td>NaT</td>\n",
       "      <td>NaT</td>\n",
       "      <td>NaT</td>\n",
       "      <td>NaT</td>\n",
       "    </tr>\n",
       "    <tr>\n",
       "      <th>1</th>\n",
       "      <td>2</td>\n",
       "      <td>2009</td>\n",
       "      <td>2</td>\n",
       "      <td>2</td>\n",
       "      <td>Malaysian Grand Prix</td>\n",
       "      <td>2009-04-05</td>\n",
       "      <td>1900-01-01 09:00:00</td>\n",
       "      <td>NaT</td>\n",
       "      <td>NaT</td>\n",
       "      <td>NaT</td>\n",
       "      <td>NaT</td>\n",
       "      <td>NaT</td>\n",
       "      <td>NaT</td>\n",
       "      <td>NaT</td>\n",
       "      <td>NaT</td>\n",
       "      <td>NaT</td>\n",
       "      <td>NaT</td>\n",
       "    </tr>\n",
       "    <tr>\n",
       "      <th>2</th>\n",
       "      <td>3</td>\n",
       "      <td>2009</td>\n",
       "      <td>3</td>\n",
       "      <td>17</td>\n",
       "      <td>Chinese Grand Prix</td>\n",
       "      <td>2009-04-19</td>\n",
       "      <td>1900-01-01 07:00:00</td>\n",
       "      <td>NaT</td>\n",
       "      <td>NaT</td>\n",
       "      <td>NaT</td>\n",
       "      <td>NaT</td>\n",
       "      <td>NaT</td>\n",
       "      <td>NaT</td>\n",
       "      <td>NaT</td>\n",
       "      <td>NaT</td>\n",
       "      <td>NaT</td>\n",
       "      <td>NaT</td>\n",
       "    </tr>\n",
       "    <tr>\n",
       "      <th>3</th>\n",
       "      <td>4</td>\n",
       "      <td>2009</td>\n",
       "      <td>4</td>\n",
       "      <td>3</td>\n",
       "      <td>Bahrain Grand Prix</td>\n",
       "      <td>2009-04-26</td>\n",
       "      <td>1900-01-01 12:00:00</td>\n",
       "      <td>NaT</td>\n",
       "      <td>NaT</td>\n",
       "      <td>NaT</td>\n",
       "      <td>NaT</td>\n",
       "      <td>NaT</td>\n",
       "      <td>NaT</td>\n",
       "      <td>NaT</td>\n",
       "      <td>NaT</td>\n",
       "      <td>NaT</td>\n",
       "      <td>NaT</td>\n",
       "    </tr>\n",
       "    <tr>\n",
       "      <th>4</th>\n",
       "      <td>5</td>\n",
       "      <td>2009</td>\n",
       "      <td>5</td>\n",
       "      <td>4</td>\n",
       "      <td>Spanish Grand Prix</td>\n",
       "      <td>2009-05-10</td>\n",
       "      <td>1900-01-01 12:00:00</td>\n",
       "      <td>NaT</td>\n",
       "      <td>NaT</td>\n",
       "      <td>NaT</td>\n",
       "      <td>NaT</td>\n",
       "      <td>NaT</td>\n",
       "      <td>NaT</td>\n",
       "      <td>NaT</td>\n",
       "      <td>NaT</td>\n",
       "      <td>NaT</td>\n",
       "      <td>NaT</td>\n",
       "    </tr>\n",
       "  </tbody>\n",
       "</table>\n",
       "</div>"
      ],
      "text/plain": [
       "   corrida_id   ano  rodada  circuito_id                   nome       data  \\\n",
       "0           1  2009       1            1  Australian Grand Prix 2009-03-29   \n",
       "1           2  2009       2            2   Malaysian Grand Prix 2009-04-05   \n",
       "2           3  2009       3           17     Chinese Grand Prix 2009-04-19   \n",
       "3           4  2009       4            3     Bahrain Grand Prix 2009-04-26   \n",
       "4           5  2009       5            4     Spanish Grand Prix 2009-05-10   \n",
       "\n",
       "                 hora fp1_data fp1_hora fp2_data fp2_hora fp3_data fp3_hora  \\\n",
       "0 1900-01-01 06:00:00      NaT      NaT      NaT      NaT      NaT      NaT   \n",
       "1 1900-01-01 09:00:00      NaT      NaT      NaT      NaT      NaT      NaT   \n",
       "2 1900-01-01 07:00:00      NaT      NaT      NaT      NaT      NaT      NaT   \n",
       "3 1900-01-01 12:00:00      NaT      NaT      NaT      NaT      NaT      NaT   \n",
       "4 1900-01-01 12:00:00      NaT      NaT      NaT      NaT      NaT      NaT   \n",
       "\n",
       "  quali_data quali_hora sprint_data sprint_hora  \n",
       "0        NaT        NaT         NaT         NaT  \n",
       "1        NaT        NaT         NaT         NaT  \n",
       "2        NaT        NaT         NaT         NaT  \n",
       "3        NaT        NaT         NaT         NaT  \n",
       "4        NaT        NaT         NaT         NaT  "
      ]
     },
     "execution_count": 11,
     "metadata": {},
     "output_type": "execute_result"
    }
   ],
   "source": [
    "#Informações\n",
    "corridas.columns\n",
    "corridas.shape\n",
    "corridas.dtypes\n",
    "\n",
    "print(\"Descricao: \")\n",
    "corridas.describe()\n",
    "print(\"\\n\")\n",
    "\n",
    "# Obtendo informações sobre as colunas\n",
    "print(\"Informacoes: \")\n",
    "corridas.info()\n",
    "print(\"\\n\")\n",
    "\n",
    "\n",
    "print(\"Dimensoes: \")\n",
    "print(corridas.shape)\n",
    "print(\"\\n\")\n",
    "\n",
    "corridas.head(5)"
   ]
  },
  {
   "cell_type": "markdown",
   "metadata": {},
   "source": [
    "### T/L tabela CIRCUITS (CIRCUITOS):"
   ]
  },
  {
   "cell_type": "markdown",
   "metadata": {},
   "source": [
    "Comentários:"
   ]
  },
  {
   "cell_type": "markdown",
   "metadata": {},
   "source": [
    "#### Informações inicias"
   ]
  },
  {
   "cell_type": "code",
   "execution_count": 12,
   "metadata": {},
   "outputs": [
    {
     "name": "stdout",
     "output_type": "stream",
     "text": [
      "Descricao: \n",
      "\n",
      "\n",
      "Informacoes: \n",
      "<class 'pandas.core.frame.DataFrame'>\n",
      "RangeIndex: 77 entries, 0 to 76\n",
      "Data columns (total 9 columns):\n",
      " #   Column      Non-Null Count  Dtype  \n",
      "---  ------      --------------  -----  \n",
      " 0   circuitId   77 non-null     int64  \n",
      " 1   circuitRef  77 non-null     object \n",
      " 2   name        77 non-null     object \n",
      " 3   location    77 non-null     object \n",
      " 4   country     77 non-null     object \n",
      " 5   lat         77 non-null     float64\n",
      " 6   lng         77 non-null     float64\n",
      " 7   alt         77 non-null     object \n",
      " 8   url         77 non-null     object \n",
      "dtypes: float64(2), int64(1), object(6)\n",
      "memory usage: 5.5+ KB\n",
      "\n",
      "\n",
      "Dimensoes: \n",
      "(77, 9)\n",
      "\n",
      "\n"
     ]
    },
    {
     "data": {
      "text/html": [
       "<div>\n",
       "<style scoped>\n",
       "    .dataframe tbody tr th:only-of-type {\n",
       "        vertical-align: middle;\n",
       "    }\n",
       "\n",
       "    .dataframe tbody tr th {\n",
       "        vertical-align: top;\n",
       "    }\n",
       "\n",
       "    .dataframe thead th {\n",
       "        text-align: right;\n",
       "    }\n",
       "</style>\n",
       "<table border=\"1\" class=\"dataframe\">\n",
       "  <thead>\n",
       "    <tr style=\"text-align: right;\">\n",
       "      <th></th>\n",
       "      <th>circuitId</th>\n",
       "      <th>circuitRef</th>\n",
       "      <th>name</th>\n",
       "      <th>location</th>\n",
       "      <th>country</th>\n",
       "      <th>lat</th>\n",
       "      <th>lng</th>\n",
       "      <th>alt</th>\n",
       "      <th>url</th>\n",
       "    </tr>\n",
       "  </thead>\n",
       "  <tbody>\n",
       "    <tr>\n",
       "      <th>0</th>\n",
       "      <td>1</td>\n",
       "      <td>albert_park</td>\n",
       "      <td>Albert Park Grand Prix Circuit</td>\n",
       "      <td>Melbourne</td>\n",
       "      <td>Australia</td>\n",
       "      <td>-37.84970</td>\n",
       "      <td>144.96800</td>\n",
       "      <td>10</td>\n",
       "      <td>http://en.wikipedia.org/wiki/Melbourne_Grand_P...</td>\n",
       "    </tr>\n",
       "    <tr>\n",
       "      <th>1</th>\n",
       "      <td>2</td>\n",
       "      <td>sepang</td>\n",
       "      <td>Sepang International Circuit</td>\n",
       "      <td>Kuala Lumpur</td>\n",
       "      <td>Malaysia</td>\n",
       "      <td>2.76083</td>\n",
       "      <td>101.73800</td>\n",
       "      <td>18</td>\n",
       "      <td>http://en.wikipedia.org/wiki/Sepang_Internatio...</td>\n",
       "    </tr>\n",
       "    <tr>\n",
       "      <th>2</th>\n",
       "      <td>3</td>\n",
       "      <td>bahrain</td>\n",
       "      <td>Bahrain International Circuit</td>\n",
       "      <td>Sakhir</td>\n",
       "      <td>Bahrain</td>\n",
       "      <td>26.03250</td>\n",
       "      <td>50.51060</td>\n",
       "      <td>7</td>\n",
       "      <td>http://en.wikipedia.org/wiki/Bahrain_Internati...</td>\n",
       "    </tr>\n",
       "    <tr>\n",
       "      <th>3</th>\n",
       "      <td>4</td>\n",
       "      <td>catalunya</td>\n",
       "      <td>Circuit de Barcelona-Catalunya</td>\n",
       "      <td>Montmeló</td>\n",
       "      <td>Spain</td>\n",
       "      <td>41.57000</td>\n",
       "      <td>2.26111</td>\n",
       "      <td>109</td>\n",
       "      <td>http://en.wikipedia.org/wiki/Circuit_de_Barcel...</td>\n",
       "    </tr>\n",
       "    <tr>\n",
       "      <th>4</th>\n",
       "      <td>5</td>\n",
       "      <td>istanbul</td>\n",
       "      <td>Istanbul Park</td>\n",
       "      <td>Istanbul</td>\n",
       "      <td>Turkey</td>\n",
       "      <td>40.95170</td>\n",
       "      <td>29.40500</td>\n",
       "      <td>130</td>\n",
       "      <td>http://en.wikipedia.org/wiki/Istanbul_Park</td>\n",
       "    </tr>\n",
       "  </tbody>\n",
       "</table>\n",
       "</div>"
      ],
      "text/plain": [
       "   circuitId   circuitRef                            name      location  \\\n",
       "0          1  albert_park  Albert Park Grand Prix Circuit     Melbourne   \n",
       "1          2       sepang    Sepang International Circuit  Kuala Lumpur   \n",
       "2          3      bahrain   Bahrain International Circuit        Sakhir   \n",
       "3          4    catalunya  Circuit de Barcelona-Catalunya      Montmeló   \n",
       "4          5     istanbul                   Istanbul Park      Istanbul   \n",
       "\n",
       "     country       lat        lng  alt  \\\n",
       "0  Australia -37.84970  144.96800   10   \n",
       "1   Malaysia   2.76083  101.73800   18   \n",
       "2    Bahrain  26.03250   50.51060    7   \n",
       "3      Spain  41.57000    2.26111  109   \n",
       "4     Turkey  40.95170   29.40500  130   \n",
       "\n",
       "                                                 url  \n",
       "0  http://en.wikipedia.org/wiki/Melbourne_Grand_P...  \n",
       "1  http://en.wikipedia.org/wiki/Sepang_Internatio...  \n",
       "2  http://en.wikipedia.org/wiki/Bahrain_Internati...  \n",
       "3  http://en.wikipedia.org/wiki/Circuit_de_Barcel...  \n",
       "4         http://en.wikipedia.org/wiki/Istanbul_Park  "
      ]
     },
     "execution_count": 12,
     "metadata": {},
     "output_type": "execute_result"
    }
   ],
   "source": [
    "#Informações \n",
    "circuitos.columns\n",
    "circuitos.shape\n",
    "circuitos.dtypes\n",
    "\n",
    "print(\"Descricao: \")\n",
    "circuitos.describe()\n",
    "print(\"\\n\")\n",
    "\n",
    "# Obtendo informações sobre as colunas\n",
    "print(\"Informacoes: \")\n",
    "circuitos.info()\n",
    "print(\"\\n\")\n",
    "\n",
    "\n",
    "print(\"Dimensoes: \")\n",
    "print(circuitos.shape)\n",
    "print(\"\\n\")\n",
    "\n",
    "circuitos.head(5)"
   ]
  },
  {
   "cell_type": "markdown",
   "metadata": {},
   "source": [
    "#### Alterações pré-determinadas:"
   ]
  },
  {
   "cell_type": "code",
   "execution_count": 13,
   "metadata": {},
   "outputs": [],
   "source": [
    "#Colocando as colunas em PT_BR\n",
    "circuitos.columns = ['circuito_id', 'circuito_ref', 'nome', 'localizacao', 'pais', 'lat','lng', 'alt','url']"
   ]
  },
  {
   "cell_type": "code",
   "execution_count": 14,
   "metadata": {},
   "outputs": [],
   "source": [
    "#Deletando colunas que não precisam\n",
    "\n",
    "#DROP COLUNA URL\n",
    "circuitos = circuitos.drop('url', axis=1)"
   ]
  },
  {
   "cell_type": "markdown",
   "metadata": {},
   "source": [
    "#### Alterações de type nas colunas e nulls"
   ]
  },
  {
   "cell_type": "code",
   "execution_count": 15,
   "metadata": {},
   "outputs": [],
   "source": [
    "#Colocando os valores \"\\n\" COMO NP.NAN (NONE)\n",
    "circuitos = circuitos.replace('\\\\N', np.nan)"
   ]
  },
  {
   "cell_type": "code",
   "execution_count": 16,
   "metadata": {},
   "outputs": [],
   "source": [
    "#Transformando em String\n",
    "circuitos['nome'] = circuitos['nome'].astype(pd.StringDtype())\n",
    "circuitos['circuito_ref'] = circuitos['circuito_ref'].astype(pd.StringDtype())\n",
    "circuitos['pais'] = circuitos['pais'].astype(pd.StringDtype())\n",
    "circuitos['localizacao'] = circuitos['localizacao'].astype(pd.StringDtype())"
   ]
  },
  {
   "cell_type": "code",
   "execution_count": 17,
   "metadata": {},
   "outputs": [],
   "source": [
    "#Transformando em INT\n",
    "circuitos['alt'] = pd.to_numeric(circuitos['alt'])"
   ]
  },
  {
   "cell_type": "code",
   "execution_count": 18,
   "metadata": {},
   "outputs": [
    {
     "data": {
      "text/plain": [
       "circuito_id     0\n",
       "circuito_ref    0\n",
       "nome            0\n",
       "localizacao     0\n",
       "pais            0\n",
       "lat             0\n",
       "lng             0\n",
       "alt             3\n",
       "dtype: int64"
      ]
     },
     "execution_count": 18,
     "metadata": {},
     "output_type": "execute_result"
    }
   ],
   "source": [
    "#retorna o número de valores ausentes para cada coluna.\n",
    "circuitos.isna().sum()"
   ]
  },
  {
   "cell_type": "code",
   "execution_count": 19,
   "metadata": {},
   "outputs": [
    {
     "data": {
      "text/html": [
       "<div>\n",
       "<style scoped>\n",
       "    .dataframe tbody tr th:only-of-type {\n",
       "        vertical-align: middle;\n",
       "    }\n",
       "\n",
       "    .dataframe tbody tr th {\n",
       "        vertical-align: top;\n",
       "    }\n",
       "\n",
       "    .dataframe thead th {\n",
       "        text-align: right;\n",
       "    }\n",
       "</style>\n",
       "<table border=\"1\" class=\"dataframe\">\n",
       "  <thead>\n",
       "    <tr style=\"text-align: right;\">\n",
       "      <th></th>\n",
       "      <th>Dataframe</th>\n",
       "      <th>% de valores ausentes</th>\n",
       "    </tr>\n",
       "  </thead>\n",
       "  <tbody>\n",
       "    <tr>\n",
       "      <th>0</th>\n",
       "      <td>Corridas:</td>\n",
       "      <td>0.487013</td>\n",
       "    </tr>\n",
       "  </tbody>\n",
       "</table>\n",
       "</div>"
      ],
      "text/plain": [
       "   Dataframe  % de valores ausentes\n",
       "0  Corridas:               0.487013"
      ]
     },
     "execution_count": 19,
     "metadata": {},
     "output_type": "execute_result"
    }
   ],
   "source": [
    "#Calcula o percentual de valores ausentes\n",
    "def perc_na(df: pd.DataFrame) -> float:\n",
    "    return np.count_nonzero(df.isnull().values) / (df.shape[0] * df.shape[1]) * 100.0\n",
    "\n",
    "\n",
    "pd.DataFrame([\n",
    "    [\"Corridas:\", perc_na(circuitos)]\n",
    "], columns=[\"Dataframe\", \"% de valores ausentes\"])"
   ]
  },
  {
   "cell_type": "markdown",
   "metadata": {},
   "source": [
    "#### Informações finais"
   ]
  },
  {
   "cell_type": "code",
   "execution_count": 21,
   "metadata": {},
   "outputs": [
    {
     "name": "stdout",
     "output_type": "stream",
     "text": [
      "Descricao: \n",
      "\n",
      "\n",
      "Informacoes: \n",
      "<class 'pandas.core.frame.DataFrame'>\n",
      "RangeIndex: 77 entries, 0 to 76\n",
      "Data columns (total 8 columns):\n",
      " #   Column        Non-Null Count  Dtype  \n",
      "---  ------        --------------  -----  \n",
      " 0   circuito_id   77 non-null     int64  \n",
      " 1   circuito_ref  77 non-null     string \n",
      " 2   nome          77 non-null     string \n",
      " 3   localizacao   77 non-null     string \n",
      " 4   pais          77 non-null     string \n",
      " 5   lat           77 non-null     float64\n",
      " 6   lng           77 non-null     float64\n",
      " 7   alt           74 non-null     float64\n",
      "dtypes: float64(3), int64(1), string(4)\n",
      "memory usage: 4.9 KB\n",
      "\n",
      "\n",
      "Dimensoes: \n",
      "(77, 8)\n",
      "\n",
      "\n"
     ]
    },
    {
     "data": {
      "text/html": [
       "<div>\n",
       "<style scoped>\n",
       "    .dataframe tbody tr th:only-of-type {\n",
       "        vertical-align: middle;\n",
       "    }\n",
       "\n",
       "    .dataframe tbody tr th {\n",
       "        vertical-align: top;\n",
       "    }\n",
       "\n",
       "    .dataframe thead th {\n",
       "        text-align: right;\n",
       "    }\n",
       "</style>\n",
       "<table border=\"1\" class=\"dataframe\">\n",
       "  <thead>\n",
       "    <tr style=\"text-align: right;\">\n",
       "      <th></th>\n",
       "      <th>circuito_id</th>\n",
       "      <th>circuito_ref</th>\n",
       "      <th>nome</th>\n",
       "      <th>localizacao</th>\n",
       "      <th>pais</th>\n",
       "      <th>lat</th>\n",
       "      <th>lng</th>\n",
       "      <th>alt</th>\n",
       "    </tr>\n",
       "  </thead>\n",
       "  <tbody>\n",
       "    <tr>\n",
       "      <th>0</th>\n",
       "      <td>1</td>\n",
       "      <td>albert_park</td>\n",
       "      <td>Albert Park Grand Prix Circuit</td>\n",
       "      <td>Melbourne</td>\n",
       "      <td>Australia</td>\n",
       "      <td>-37.84970</td>\n",
       "      <td>144.96800</td>\n",
       "      <td>10.0</td>\n",
       "    </tr>\n",
       "    <tr>\n",
       "      <th>1</th>\n",
       "      <td>2</td>\n",
       "      <td>sepang</td>\n",
       "      <td>Sepang International Circuit</td>\n",
       "      <td>Kuala Lumpur</td>\n",
       "      <td>Malaysia</td>\n",
       "      <td>2.76083</td>\n",
       "      <td>101.73800</td>\n",
       "      <td>18.0</td>\n",
       "    </tr>\n",
       "    <tr>\n",
       "      <th>2</th>\n",
       "      <td>3</td>\n",
       "      <td>bahrain</td>\n",
       "      <td>Bahrain International Circuit</td>\n",
       "      <td>Sakhir</td>\n",
       "      <td>Bahrain</td>\n",
       "      <td>26.03250</td>\n",
       "      <td>50.51060</td>\n",
       "      <td>7.0</td>\n",
       "    </tr>\n",
       "    <tr>\n",
       "      <th>3</th>\n",
       "      <td>4</td>\n",
       "      <td>catalunya</td>\n",
       "      <td>Circuit de Barcelona-Catalunya</td>\n",
       "      <td>Montmeló</td>\n",
       "      <td>Spain</td>\n",
       "      <td>41.57000</td>\n",
       "      <td>2.26111</td>\n",
       "      <td>109.0</td>\n",
       "    </tr>\n",
       "    <tr>\n",
       "      <th>4</th>\n",
       "      <td>5</td>\n",
       "      <td>istanbul</td>\n",
       "      <td>Istanbul Park</td>\n",
       "      <td>Istanbul</td>\n",
       "      <td>Turkey</td>\n",
       "      <td>40.95170</td>\n",
       "      <td>29.40500</td>\n",
       "      <td>130.0</td>\n",
       "    </tr>\n",
       "  </tbody>\n",
       "</table>\n",
       "</div>"
      ],
      "text/plain": [
       "   circuito_id circuito_ref                            nome   localizacao  \\\n",
       "0            1  albert_park  Albert Park Grand Prix Circuit     Melbourne   \n",
       "1            2       sepang    Sepang International Circuit  Kuala Lumpur   \n",
       "2            3      bahrain   Bahrain International Circuit        Sakhir   \n",
       "3            4    catalunya  Circuit de Barcelona-Catalunya      Montmeló   \n",
       "4            5     istanbul                   Istanbul Park      Istanbul   \n",
       "\n",
       "        pais       lat        lng    alt  \n",
       "0  Australia -37.84970  144.96800   10.0  \n",
       "1   Malaysia   2.76083  101.73800   18.0  \n",
       "2    Bahrain  26.03250   50.51060    7.0  \n",
       "3      Spain  41.57000    2.26111  109.0  \n",
       "4     Turkey  40.95170   29.40500  130.0  "
      ]
     },
     "execution_count": 21,
     "metadata": {},
     "output_type": "execute_result"
    }
   ],
   "source": [
    "#Informações\n",
    "circuitos.columns\n",
    "circuitos.shape\n",
    "circuitos.dtypes\n",
    "\n",
    "print(\"Descricao: \")\n",
    "circuitos.describe()\n",
    "print(\"\\n\")\n",
    "\n",
    "# Obtendo informações sobre as colunas\n",
    "print(\"Informacoes: \")\n",
    "circuitos.info()\n",
    "print(\"\\n\")\n",
    "\n",
    "\n",
    "print(\"Dimensoes: \")\n",
    "print(circuitos.shape)\n",
    "print(\"\\n\")\n",
    "\n",
    "circuitos.head(5)"
   ]
  },
  {
   "cell_type": "markdown",
   "metadata": {},
   "source": [
    "### Grafos e Estatisticas"
   ]
  },
  {
   "cell_type": "code",
   "execution_count": 38,
   "metadata": {},
   "outputs": [
    {
     "data": {
      "image/png": "[encoded data removed]",
      "text/plain": [
       "<Figure size 640x480 with 1 Axes>"
      ]
     },
     "metadata": {},
     "output_type": "display_data"
    }
   ],
   "source": [
    "#Distribuição de classificações\n",
    "count_ratings = circuitos['pais'].value_counts()\n",
    "\n",
    "# Visualização em um gráfico de pizza\n",
    "count_ratings.plot(kind='bar')\n",
    "plt.axis('equal')\n",
    "plt.title('Quais paises que tem mais circuitos')\n",
    "plt.show()"
   ]
  }
 ],
 "metadata": {
  "kernelspec": {
   "display_name": "Python 3",
   "language": "python",
   "name": "python3"
  },
  "language_info": {
   "codemirror_mode": {
    "name": "ipython",
    "version": 3
   },
   "file_extension": ".py",
   "mimetype": "text/x-python",
   "name": "python",
   "nbconvert_exporter": "python",
   "pygments_lexer": "ipython3",
   "version": "3.11.5"
  },
  "orig_nbformat": 4
 },
 "nbformat": 4,
 "nbformat_minor": 2
}
