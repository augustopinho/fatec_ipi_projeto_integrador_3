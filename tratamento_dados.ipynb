{
 "cells": [
  {
   "cell_type": "markdown",
   "metadata": {},
   "source": [
    "### Global"
   ]
  },
  {
   "cell_type": "code",
   "execution_count": 1,
   "metadata": {},
   "outputs": [],
   "source": [
    "# Import das bibliotecas base:\n",
    "import pandas as pd\n",
    "import numpy as np\n",
    "import seaborn as sns\n",
    "import matplotlib as plt"
   ]
  },
  {
   "cell_type": "code",
   "execution_count": 2,
   "metadata": {},
   "outputs": [],
   "source": [
    "#Import dos arquivos csv\n",
    "pilotos = pd.read_csv('./bases/drivers.csv')\n",
    "piloto_classificacoes = pd.read_csv('./bases/driver_standings.csv')\n",
    "sprint_resultados = pd.read_csv('./bases/sprint_results.csv')\n",
    "parada_boxes = pd.read_csv('./bases/pit_stops.csv')\n",
    "qualificacao = pd.read_csv('./bases/qualifying.csv')\n",
    "status = pd.read_csv('./bases/status.csv')\n",
    "temporadas = pd.read_csv('./bases/seasons.csv')\n",
    "construtores = pd.read_csv('./bases/constructors.csv')\n",
    "construtor_resultados = pd.read_csv('./bases/constructor_results.csv')"
   ]
  },
  {
   "cell_type": "markdown",
   "metadata": {},
   "source": [
    "### Tabela Pilotos:"
   ]
  },
  {
   "cell_type": "code",
   "execution_count": null,
   "metadata": {},
   "outputs": [],
   "source": []
  }
 ],
 "metadata": {
  "kernelspec": {
   "display_name": "Python 3",
   "language": "python",
   "name": "python3"
  },
  "language_info": {
   "codemirror_mode": {
    "name": "ipython",
    "version": 3
   },
   "file_extension": ".py",
   "mimetype": "text/x-python",
   "name": "python",
   "nbconvert_exporter": "python",
   "pygments_lexer": "ipython3",
   "version": "3.9.6"
  }
 },
 "nbformat": 4,
 "nbformat_minor": 2
}
