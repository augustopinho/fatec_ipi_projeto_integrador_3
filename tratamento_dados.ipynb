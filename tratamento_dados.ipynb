{
 "cells": [
  {
   "cell_type": "code",
   "execution_count": 1,
   "metadata": {},
   "outputs": [],
   "source": [
    "#Importação de bibliotacas\n",
    "import pandas as pd\n",
    "import numpy as np"
   ]
  },
  {
   "cell_type": "code",
   "execution_count": 2,
   "metadata": {},
   "outputs": [],
   "source": [
    "# Importando ps CSV com pandas\n",
    "pilotos = pd.read_csv('./bases/drivers.csv')\n",
    "piloto_classificacoes = pd.read_csv('./bases/driver_standings.csv')\n",
    "corridas = pd.read_csv('./bases/races.csv')\n",
    "sprint_resultados = pd.read_csv('./bases/sprint_results.csv')\n",
    "circuitos = pd.read_csv('./bases/circuits.csv')\n",
    "tempo_por_volta = pd.read_csv('./bases/lap_times.csv')\n",
    "parada_boxes = pd.read_csv('./bases/pit_stops.csv')\n",
    "qualificacao = pd.read_csv('./bases/qualifying.csv')\n",
    "resultados = pd.read_csv('./bases/results.csv')\n",
    "status = pd.read_csv('./bases/status.csv')\n",
    "temporadas = pd.read_csv('./bases/seasons.csv')\n",
    "construtores = pd.read_csv('./bases/constructors.csv')\n",
    "construtor_classificacoes = pd.read_csv('./bases/constructor_standings.csv')\n",
    "construtor_resultados = pd.read_csv('./bases/constructor_results.csv')\n"
   ]
  },
  {
   "attachments": {},
   "cell_type": "markdown",
   "metadata": {},
   "source": [
    "## Tratamento de dados/Limpeza\n",
    "#Tabelas a serem tratadas: races, tb_circuts, laptimes, constructor satadings/results"
   ]
  },
  {
   "cell_type": "markdown",
   "metadata": {},
   "source": [
    "## T/L tabela RACES (CORRIDAS)"
   ]
  },
  {
   "cell_type": "code",
   "execution_count": 3,
   "metadata": {},
   "outputs": [],
   "source": [
    "#Colocando as colunas em PT_BR\n",
    "corridas.columns = ['corrida_id', 'ano', 'rodada', 'circuito_id', 'nome', 'data','hora','url','fp1_data','fp1_hora','fp2_data','fp2_hora','fp3_data','fp3_hora','quali_data','quali_hora','sprint_data','sprint_hora']"
   ]
  },
  {
   "cell_type": "code",
   "execution_count": 15,
   "metadata": {},
   "outputs": [],
   "source": [
    "#Deletando colunas que não precisam\n",
    "\n",
    "#DROP COLUNA URL\n",
    "corridas = corridas.drop('url', axis=1)"
   ]
  },
  {
   "cell_type": "code",
   "execution_count": 8,
   "metadata": {},
   "outputs": [],
   "source": [
    "#Colocando os valores \"\\n\" COMO None\n",
    "corridas = corridas.replace('\\\\N', np.nan)"
   ]
  },
  {
   "cell_type": "code",
   "execution_count": 9,
   "metadata": {},
   "outputs": [],
   "source": [
    "#Transformando em date, pois está em object\n",
    "corridas['data'] = pd.to_datetime(corridas['data'])\n",
    "corridas['fp1_data'] = pd.to_datetime(corridas['fp1_data'])\n",
    "corridas['fp2_data'] = pd.to_datetime(corridas['fp2_data'])\n",
    "corridas['fp3_data'] = pd.to_datetime(corridas['fp3_data'])\n",
    "corridas['quali_data'] = pd.to_datetime(corridas['quali_data'])\n",
    "corridas['sprint_data'] = pd.to_datetime(corridas['sprint_data'])"
   ]
  },
  {
   "cell_type": "code",
   "execution_count": 10,
   "metadata": {},
   "outputs": [],
   "source": [
    "#Transformando em String\n",
    "corridas['nome'] = corridas['nome'].astype(pd.StringDtype())"
   ]
  },
  {
   "cell_type": "code",
   "execution_count": 11,
   "metadata": {},
   "outputs": [],
   "source": [
    "#Transformando em DateTime\n",
    "corridas['hora'] = pd.to_datetime(corridas['hora'], format='%H:%M:%S')\n",
    "corridas['fp1_hora'] = pd.to_datetime(corridas['fp1_hora'], format='%H:%M:%S')\n",
    "corridas['fp2_hora'] = pd.to_datetime(corridas['fp2_hora'], format='%H:%M:%S')\n",
    "corridas['fp3_hora'] = pd.to_datetime(corridas['fp3_hora'], format='%H:%M:%S')\n",
    "corridas['quali_hora'] = pd.to_datetime(corridas['quali_hora'], format='%H:%M:%S')\n",
    "corridas['sprint_hora'] = pd.to_datetime(corridas['sprint_hora'], format='%H:%M:%S')"
   ]
  },
  {
   "cell_type": "code",
   "execution_count": 16,
   "metadata": {},
   "outputs": [
    {
     "data": {
      "text/plain": [
       "corrida_id        0\n",
       "ano               0\n",
       "rodada            0\n",
       "circuito_id       0\n",
       "nome              0\n",
       "data              0\n",
       "hora            731\n",
       "fp1_data       1035\n",
       "fp1_hora       1057\n",
       "fp2_data       1035\n",
       "fp2_hora       1057\n",
       "fp3_data       1047\n",
       "fp3_hora       1066\n",
       "quali_data     1035\n",
       "quali_hora     1057\n",
       "sprint_data    1089\n",
       "sprint_hora    1092\n",
       "dtype: int64"
      ]
     },
     "execution_count": 16,
     "metadata": {},
     "output_type": "execute_result"
    }
   ],
   "source": [
    "#retorna o número de valores ausentes para cada coluna.\n",
    "corridas.isna().sum()"
   ]
  },
  {
   "cell_type": "code",
   "execution_count": 17,
   "metadata": {},
   "outputs": [
    {
     "data": {
      "text/html": [
       "<div>\n",
       "<style scoped>\n",
       "    .dataframe tbody tr th:only-of-type {\n",
       "        vertical-align: middle;\n",
       "    }\n",
       "\n",
       "    .dataframe tbody tr th {\n",
       "        vertical-align: top;\n",
       "    }\n",
       "\n",
       "    .dataframe thead th {\n",
       "        text-align: right;\n",
       "    }\n",
       "</style>\n",
       "<table border=\"1\" class=\"dataframe\">\n",
       "  <thead>\n",
       "    <tr style=\"text-align: right;\">\n",
       "      <th></th>\n",
       "      <th>Dataframe</th>\n",
       "      <th>% de valores ausentes</th>\n",
       "    </tr>\n",
       "  </thead>\n",
       "  <tbody>\n",
       "    <tr>\n",
       "      <th>0</th>\n",
       "      <td>Corridas:</td>\n",
       "      <td>60.378266</td>\n",
       "    </tr>\n",
       "  </tbody>\n",
       "</table>\n",
       "</div>"
      ],
      "text/plain": [
       "   Dataframe  % de valores ausentes\n",
       "0  Corridas:              60.378266"
      ]
     },
     "execution_count": 17,
     "metadata": {},
     "output_type": "execute_result"
    }
   ],
   "source": [
    "#Calcula o percentual de valores ausentes\n",
    "def perc_na(df: pd.DataFrame) -> float:\n",
    "    return np.count_nonzero(df.isnull().values) / (df.shape[0] * df.shape[1]) * 100.0\n",
    "\n",
    "\n",
    "pd.DataFrame([\n",
    "    [\"Corridas:\", perc_na(corridas)]\n",
    "], columns=[\"Dataframe\", \"% de valores ausentes\"])\n",
    "\n"
   ]
  },
  {
   "cell_type": "code",
   "execution_count": 18,
   "metadata": {},
   "outputs": [
    {
     "name": "stdout",
     "output_type": "stream",
     "text": [
      "Descricao: \n",
      "\n",
      "\n",
      "Informacoes: \n",
      "<class 'pandas.core.frame.DataFrame'>\n",
      "RangeIndex: 1101 entries, 0 to 1100\n",
      "Data columns (total 17 columns):\n",
      " #   Column       Non-Null Count  Dtype         \n",
      "---  ------       --------------  -----         \n",
      " 0   corrida_id   1101 non-null   int64         \n",
      " 1   ano          1101 non-null   int64         \n",
      " 2   rodada       1101 non-null   int64         \n",
      " 3   circuito_id  1101 non-null   int64         \n",
      " 4   nome         1101 non-null   string        \n",
      " 5   data         1101 non-null   datetime64[ns]\n",
      " 6   hora         370 non-null    datetime64[ns]\n",
      " 7   fp1_data     66 non-null     datetime64[ns]\n",
      " 8   fp1_hora     44 non-null     datetime64[ns]\n",
      " 9   fp2_data     66 non-null     datetime64[ns]\n",
      " 10  fp2_hora     44 non-null     datetime64[ns]\n",
      " 11  fp3_data     54 non-null     datetime64[ns]\n",
      " 12  fp3_hora     35 non-null     datetime64[ns]\n",
      " 13  quali_data   66 non-null     datetime64[ns]\n",
      " 14  quali_hora   44 non-null     datetime64[ns]\n",
      " 15  sprint_data  12 non-null     datetime64[ns]\n",
      " 16  sprint_hora  9 non-null      datetime64[ns]\n",
      "dtypes: datetime64[ns](12), int64(4), string(1)\n",
      "memory usage: 146.4 KB\n",
      "\n",
      "\n",
      "Dimensoes: \n",
      "(1101, 17)\n",
      "\n",
      "\n"
     ]
    },
    {
     "data": {
      "text/html": [
       "<div>\n",
       "<style scoped>\n",
       "    .dataframe tbody tr th:only-of-type {\n",
       "        vertical-align: middle;\n",
       "    }\n",
       "\n",
       "    .dataframe tbody tr th {\n",
       "        vertical-align: top;\n",
       "    }\n",
       "\n",
       "    .dataframe thead th {\n",
       "        text-align: right;\n",
       "    }\n",
       "</style>\n",
       "<table border=\"1\" class=\"dataframe\">\n",
       "  <thead>\n",
       "    <tr style=\"text-align: right;\">\n",
       "      <th></th>\n",
       "      <th>corrida_id</th>\n",
       "      <th>ano</th>\n",
       "      <th>rodada</th>\n",
       "      <th>circuito_id</th>\n",
       "      <th>nome</th>\n",
       "      <th>data</th>\n",
       "      <th>hora</th>\n",
       "      <th>fp1_data</th>\n",
       "      <th>fp1_hora</th>\n",
       "      <th>fp2_data</th>\n",
       "      <th>fp2_hora</th>\n",
       "      <th>fp3_data</th>\n",
       "      <th>fp3_hora</th>\n",
       "      <th>quali_data</th>\n",
       "      <th>quali_hora</th>\n",
       "      <th>sprint_data</th>\n",
       "      <th>sprint_hora</th>\n",
       "    </tr>\n",
       "  </thead>\n",
       "  <tbody>\n",
       "    <tr>\n",
       "      <th>0</th>\n",
       "      <td>1</td>\n",
       "      <td>2009</td>\n",
       "      <td>1</td>\n",
       "      <td>1</td>\n",
       "      <td>Australian Grand Prix</td>\n",
       "      <td>2009-03-29</td>\n",
       "      <td>1900-01-01 06:00:00</td>\n",
       "      <td>NaT</td>\n",
       "      <td>NaT</td>\n",
       "      <td>NaT</td>\n",
       "      <td>NaT</td>\n",
       "      <td>NaT</td>\n",
       "      <td>NaT</td>\n",
       "      <td>NaT</td>\n",
       "      <td>NaT</td>\n",
       "      <td>NaT</td>\n",
       "      <td>NaT</td>\n",
       "    </tr>\n",
       "    <tr>\n",
       "      <th>1</th>\n",
       "      <td>2</td>\n",
       "      <td>2009</td>\n",
       "      <td>2</td>\n",
       "      <td>2</td>\n",
       "      <td>Malaysian Grand Prix</td>\n",
       "      <td>2009-04-05</td>\n",
       "      <td>1900-01-01 09:00:00</td>\n",
       "      <td>NaT</td>\n",
       "      <td>NaT</td>\n",
       "      <td>NaT</td>\n",
       "      <td>NaT</td>\n",
       "      <td>NaT</td>\n",
       "      <td>NaT</td>\n",
       "      <td>NaT</td>\n",
       "      <td>NaT</td>\n",
       "      <td>NaT</td>\n",
       "      <td>NaT</td>\n",
       "    </tr>\n",
       "    <tr>\n",
       "      <th>2</th>\n",
       "      <td>3</td>\n",
       "      <td>2009</td>\n",
       "      <td>3</td>\n",
       "      <td>17</td>\n",
       "      <td>Chinese Grand Prix</td>\n",
       "      <td>2009-04-19</td>\n",
       "      <td>1900-01-01 07:00:00</td>\n",
       "      <td>NaT</td>\n",
       "      <td>NaT</td>\n",
       "      <td>NaT</td>\n",
       "      <td>NaT</td>\n",
       "      <td>NaT</td>\n",
       "      <td>NaT</td>\n",
       "      <td>NaT</td>\n",
       "      <td>NaT</td>\n",
       "      <td>NaT</td>\n",
       "      <td>NaT</td>\n",
       "    </tr>\n",
       "    <tr>\n",
       "      <th>3</th>\n",
       "      <td>4</td>\n",
       "      <td>2009</td>\n",
       "      <td>4</td>\n",
       "      <td>3</td>\n",
       "      <td>Bahrain Grand Prix</td>\n",
       "      <td>2009-04-26</td>\n",
       "      <td>1900-01-01 12:00:00</td>\n",
       "      <td>NaT</td>\n",
       "      <td>NaT</td>\n",
       "      <td>NaT</td>\n",
       "      <td>NaT</td>\n",
       "      <td>NaT</td>\n",
       "      <td>NaT</td>\n",
       "      <td>NaT</td>\n",
       "      <td>NaT</td>\n",
       "      <td>NaT</td>\n",
       "      <td>NaT</td>\n",
       "    </tr>\n",
       "    <tr>\n",
       "      <th>4</th>\n",
       "      <td>5</td>\n",
       "      <td>2009</td>\n",
       "      <td>5</td>\n",
       "      <td>4</td>\n",
       "      <td>Spanish Grand Prix</td>\n",
       "      <td>2009-05-10</td>\n",
       "      <td>1900-01-01 12:00:00</td>\n",
       "      <td>NaT</td>\n",
       "      <td>NaT</td>\n",
       "      <td>NaT</td>\n",
       "      <td>NaT</td>\n",
       "      <td>NaT</td>\n",
       "      <td>NaT</td>\n",
       "      <td>NaT</td>\n",
       "      <td>NaT</td>\n",
       "      <td>NaT</td>\n",
       "      <td>NaT</td>\n",
       "    </tr>\n",
       "  </tbody>\n",
       "</table>\n",
       "</div>"
      ],
      "text/plain": [
       "   corrida_id   ano  rodada  circuito_id                   nome       data  \\\n",
       "0           1  2009       1            1  Australian Grand Prix 2009-03-29   \n",
       "1           2  2009       2            2   Malaysian Grand Prix 2009-04-05   \n",
       "2           3  2009       3           17     Chinese Grand Prix 2009-04-19   \n",
       "3           4  2009       4            3     Bahrain Grand Prix 2009-04-26   \n",
       "4           5  2009       5            4     Spanish Grand Prix 2009-05-10   \n",
       "\n",
       "                 hora fp1_data fp1_hora fp2_data fp2_hora fp3_data fp3_hora  \\\n",
       "0 1900-01-01 06:00:00      NaT      NaT      NaT      NaT      NaT      NaT   \n",
       "1 1900-01-01 09:00:00      NaT      NaT      NaT      NaT      NaT      NaT   \n",
       "2 1900-01-01 07:00:00      NaT      NaT      NaT      NaT      NaT      NaT   \n",
       "3 1900-01-01 12:00:00      NaT      NaT      NaT      NaT      NaT      NaT   \n",
       "4 1900-01-01 12:00:00      NaT      NaT      NaT      NaT      NaT      NaT   \n",
       "\n",
       "  quali_data quali_hora sprint_data sprint_hora  \n",
       "0        NaT        NaT         NaT         NaT  \n",
       "1        NaT        NaT         NaT         NaT  \n",
       "2        NaT        NaT         NaT         NaT  \n",
       "3        NaT        NaT         NaT         NaT  \n",
       "4        NaT        NaT         NaT         NaT  "
      ]
     },
     "execution_count": 18,
     "metadata": {},
     "output_type": "execute_result"
    }
   ],
   "source": [
    "#Informações\n",
    "corridas.columns\n",
    "corridas.shape\n",
    "corridas.dtypes\n",
    "\n",
    "print(\"Descricao: \")\n",
    "corridas.describe()\n",
    "print(\"\\n\")\n",
    "\n",
    "# Obtendo informações sobre as colunas\n",
    "print(\"Informacoes: \")\n",
    "corridas.info()\n",
    "print(\"\\n\")\n",
    "\n",
    "\n",
    "print(\"Dimensoes: \")\n",
    "print(corridas.shape)\n",
    "print(\"\\n\")\n",
    "\n",
    "corridas.head(5)"
   ]
  }
 ],
 "metadata": {
  "kernelspec": {
   "display_name": "Python 3",
   "language": "python",
   "name": "python3"
  },
  "language_info": {
   "codemirror_mode": {
    "name": "ipython",
    "version": 3
   },
   "file_extension": ".py",
   "mimetype": "text/x-python",
   "name": "python",
   "nbconvert_exporter": "python",
   "pygments_lexer": "ipython3",
   "version": "3.11.5"
  },
  "orig_nbformat": 4
 },
 "nbformat": 4,
 "nbformat_minor": 2
}
