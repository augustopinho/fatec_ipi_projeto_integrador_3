{
 "cells": [
  {
   "cell_type": "code",
   "execution_count": 1,
   "metadata": {},
   "outputs": [],
   "source": [
    "#Importação de bibliotacas\n",
    "import pandas as pd\n",
    "import numpy as np\n",
    "import seaborn as sns\n",
    "import matplotlib.pyplot as plt"
   ]
  },
  {
   "cell_type": "code",
   "execution_count": 2,
   "metadata": {},
   "outputs": [],
   "source": [
    "# Importando ps CSV com pandas\n",
    "#Importando das tabelas BR\n",
    "pilotos = pd.read_csv('./bases_br/pilotos.csv')\n",
    "piloto_classificacoes = pd.read_csv('./bases_br/piloto_classificacoes.csv')\n",
    "corridas = pd.read_csv('./bases_br/corridas.csv')\n",
    "sprint_resultados = pd.read_csv('./bases_br/sprint_resultados.csv')\n",
    "circuitos = pd.read_csv('./bases_br/circuitos.csv')\n",
    "tempo_por_volta = pd.read_csv('./bases_br/tempo_por_volta.csv')\n",
    "parada_boxes = pd.read_csv('./bases_br/parada_boxes.csv')\n",
    "qualificacao = pd.read_csv('./bases_br/qualificacao.csv')\n",
    "resultados = pd.read_csv('./bases_br/resultados.csv')\n",
    "construtores = pd.read_csv('./bases_br/construtores.csv')\n",
    "construtor_classificacoes = pd.read_csv('./bases_br/construtor_classificacoes.csv')\n",
    "construtor_resultados = pd.read_csv('./bases_br/construtor_resultados.csv')\n"
   ]
  },
  {
   "cell_type": "markdown",
   "metadata": {},
   "source": [
    "## Tratamento, Limpeza DW"
   ]
  },
  {
   "cell_type": "markdown",
   "metadata": {},
   "source": [
    "Comentários: "
   ]
  },
  {
   "cell_type": "code",
   "execution_count": null,
   "metadata": {},
   "outputs": [],
   "source": [
    "tabela_merge = pd.merge(construtores, construtor_resultados, on='construtor_id', how='inner')\n",
    "tabela_merge"
   ]
  }
 ],
 "metadata": {
  "kernelspec": {
   "display_name": "Python 3",
   "language": "python",
   "name": "python3"
  },
  "language_info": {
   "codemirror_mode": {
    "name": "ipython",
    "version": 3
   },
   "file_extension": ".py",
   "mimetype": "text/x-python",
   "name": "python",
   "nbconvert_exporter": "python",
   "pygments_lexer": "ipython3",
   "version": "3.9.6"
  },
  "orig_nbformat": 4
 },
 "nbformat": 4,
 "nbformat_minor": 2
}
